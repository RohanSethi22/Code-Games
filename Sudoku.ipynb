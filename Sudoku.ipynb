{
 "cells": [
  {
   "cell_type": "code",
   "execution_count": 289,
   "metadata": {},
   "outputs": [],
   "source": [
    "from random import randint\n",
    "\n",
    "class Sudoku:\n",
    "    \n",
    "    def __init__(self):\n",
    "        self.board=[[0, 0, 0, 0, 0, 0, 0, 0, 0], [0, 0, 0, 0, 0, 0, 0, 0, 0], [0, 0, 0, 0, 0, 0, 0, 0, 0], [0, 0, 0, 0, 0, 0, 0, 0, 0], [0, 0, 0, 0, 0, 0, 0, 0, 0], [0, 0, 0, 0, 0, 0, 0, 0, 0], [0, 0, 0, 0, 0, 0, 0, 0, 0], [0, 0, 0, 0, 0, 0, 0, 0, 0], [0, 0, 0, 0, 0, 0, 0, 0, 0]]\n",
    "        \n",
    "    def set_cell(self,i,j,x):        # Sets cell [i,j] to x\n",
    "        self.board[i][j]=x\n",
    "        \n",
    "    def empty_count(self):        # Returns count of empty cells\n",
    "        empty_cells=0\n",
    "        for i in range(9):\n",
    "            for j in range(9):\n",
    "                if self.board[i][j]==0:\n",
    "                    empty_cells+=1\n",
    "        return empty_cells\n",
    "    \n",
    "    def check_cell(self,i,j,x):        # Checks if x is valid at position [i,j] Returns true if valid.\n",
    "        if x in range(1,10): # Check validity\n",
    "            if x not in self.board[i]: # Check row for duplicacy\n",
    "                if x not in [self.board[i][j] for i in range(9)]: # Check column for duplicacy\n",
    "                    jst=3*(j//3)\n",
    "                    ist=3*(i//3)                    # Check box for duplicacy\n",
    "                    for p in range(ist,ist+3):\n",
    "                        for q in range(jst,jst+3):\n",
    "                            if self.board[p][q]==x:\n",
    "                                return False\n",
    "                    return True\n",
    "        return False\n",
    "    \n",
    "    def check_grid(self):        # Checks if current grid snapshot is valid Returns true if valid.\n",
    "        print('Grid contains',self.empty_count(),'empty cells.')\n",
    "        wrongs=[]\n",
    "        for i in range(9):\n",
    "            for j in range(9):\n",
    "                if self.board[i][j]!=0:\n",
    "                    temp=self.board[i][j]\n",
    "                    self.board[i][j]=0\n",
    "                    if not self.check_cell(i,j,temp):\n",
    "                        wrongs+=[(i,j)]\n",
    "                    self.board[i][j]=temp\n",
    "        if len(wrongs)!=0:\n",
    "                print(str(len(wrongs)),'cells are wrongly filled.')\n",
    "                print(wrongs)\n",
    "        return len(wrongs)==0\n",
    "                \n",
    "    def randomise(self,num):        # Randomly initialize the grid\n",
    "        for i in range(num):\n",
    "            x=randint(0,8)\n",
    "            y=randint(0,8)\n",
    "            z=randint(1,9)\n",
    "            self.board[x][y]=z\n",
    "            \n",
    "    def erase_wrongs(self):\n",
    "        wrongs=[]\n",
    "        for i in range(9):\n",
    "            for j in range(9):\n",
    "                if self.board[i][j]!=0:\n",
    "                    temp=self.board[i][j]\n",
    "                    self.board[i][j]=0\n",
    "                    if self.check_cell(i,j,temp):\n",
    "                        self.board[i][j]=temp\n",
    "    \n",
    "    def next_blank(self,istart,jstart):\n",
    "        if self.empty_count()==0:\n",
    "            return (-1,-1)\n",
    "        j=jstart\n",
    "        found=False\n",
    "        for i in range(istart,9):\n",
    "            while j<9:\n",
    "                if self.board[i][j]==0:\n",
    "                    return (i,j)\n",
    "                j+=1\n",
    "            j=0\n",
    "        print('__IMPOSSIBLE__')\n",
    "        return (-1,-1)\n",
    "    \n",
    "    def fill(self,istart,jstart):        # Auto fills all empty cells\n",
    "        i,j=self.next_blank(istart,jstart)\n",
    "        if i==j==-1:\n",
    "            return True\n",
    "        ms=[x for x in range(1,10)]\n",
    "        while len(ms)>0:\n",
    "            inde=0 #randint(0,len(ms)-1)\n",
    "            tukka=ms[inde]\n",
    "            del ms[inde]\n",
    "            #print(tukka,ms)\n",
    "            if self.check_cell(i,j,tukka):\n",
    "                self.board[i][j]=tukka\n",
    "                ans=self.fill(i,j+1)\n",
    "                if ans:\n",
    "                    return True\n",
    "        self.board[i][j]=0\n",
    "        return False\n",
    "    \n",
    "    def show(self):\n",
    "        print('-'+'----------'*3)\n",
    "        for i in range(9):\n",
    "            for j in range(9):\n",
    "                if j==0:\n",
    "                    print('|',end='')\n",
    "                print(' '+str(self.board[i][j]),end=' ')\n",
    "                if j%3==2:\n",
    "                    print('|',end='')\n",
    "            print()\n",
    "            if i%3==2:\n",
    "                print('-'+'----------'*3)"
   ]
  },
  {
   "cell_type": "code",
   "execution_count": 290,
   "metadata": {},
   "outputs": [
    {
     "name": "stdout",
     "output_type": "stream",
     "text": [
      "-------------------------------\n",
      "| 0  0  0 | 0  0  0 | 0  0  0 |\n",
      "| 0  0  0 | 0  0  0 | 0  0  0 |\n",
      "| 0  0  0 | 0  0  0 | 0  0  0 |\n",
      "-------------------------------\n",
      "| 0  0  0 | 0  0  0 | 0  0  0 |\n",
      "| 0  0  0 | 0  0  0 | 0  0  0 |\n",
      "| 0  0  0 | 0  0  0 | 0  0  0 |\n",
      "-------------------------------\n",
      "| 0  0  0 | 0  0  0 | 0  0  0 |\n",
      "| 0  0  0 | 0  0  0 | 0  0  0 |\n",
      "| 0  0  0 | 0  0  0 | 0  0  0 |\n",
      "-------------------------------\n"
     ]
    }
   ],
   "source": [
    "s=Sudoku()\n",
    "s.show()"
   ]
  },
  {
   "cell_type": "code",
   "execution_count": 279,
   "metadata": {},
   "outputs": [
    {
     "name": "stdout",
     "output_type": "stream",
     "text": [
      "-------------------------------\n",
      "| 0  0  0 | 0  0  0 | 6  0  5 |\n",
      "| 0  0  0 | 0  0  0 | 0  0  0 |\n",
      "| 0  6  1 | 0  5  0 | 0  0  0 |\n",
      "-------------------------------\n",
      "| 0  6  0 | 2  0  0 | 0  0  7 |\n",
      "| 0  0  0 | 0  0  0 | 0  0  0 |\n",
      "| 0  0  0 | 0  0  0 | 0  7  0 |\n",
      "-------------------------------\n",
      "| 0  0  6 | 0  0  0 | 0  0  0 |\n",
      "| 0  0  0 | 0  0  0 | 0  0  0 |\n",
      "| 0  0  0 | 0  0  0 | 0  0  0 |\n",
      "-------------------------------\n",
      "Grid contains 71 empty cells.\n",
      "4 cells are wrongly filled.\n",
      "[(2, 1), (3, 1), (3, 8), (5, 7)]\n"
     ]
    },
    {
     "data": {
      "text/plain": [
       "False"
      ]
     },
     "execution_count": 279,
     "metadata": {},
     "output_type": "execute_result"
    }
   ],
   "source": [
    "s.randomise(10)\n",
    "s.show()\n",
    "s.check_grid()"
   ]
  },
  {
   "cell_type": "code",
   "execution_count": 291,
   "metadata": {},
   "outputs": [
    {
     "name": "stdout",
     "output_type": "stream",
     "text": [
      "Grid contains 81 empty cells.\n",
      "-------------------------------\n",
      "| 0  0  0 | 0  0  0 | 0  0  0 |\n",
      "| 0  0  0 | 0  0  0 | 0  0  0 |\n",
      "| 0  0  0 | 0  0  0 | 0  0  0 |\n",
      "-------------------------------\n",
      "| 0  0  0 | 0  0  0 | 0  0  0 |\n",
      "| 0  0  0 | 0  0  0 | 0  0  0 |\n",
      "| 0  0  0 | 0  0  0 | 0  0  0 |\n",
      "-------------------------------\n",
      "| 0  0  0 | 0  0  0 | 0  0  0 |\n",
      "| 0  0  0 | 0  0  0 | 0  0  0 |\n",
      "| 0  0  0 | 0  0  0 | 0  0  0 |\n",
      "-------------------------------\n"
     ]
    }
   ],
   "source": [
    "s.erase_wrongs()\n",
    "s.check_grid()\n",
    "s.show()"
   ]
  },
  {
   "cell_type": "code",
   "execution_count": 292,
   "metadata": {},
   "outputs": [
    {
     "name": "stdout",
     "output_type": "stream",
     "text": [
      "True\n",
      "Grid contains 0 empty cells.\n",
      "-------------------------------\n",
      "| 1  2  3 | 4  5  6 | 7  8  9 |\n",
      "| 4  5  6 | 7  8  9 | 1  2  3 |\n",
      "| 7  8  9 | 1  2  3 | 4  5  6 |\n",
      "-------------------------------\n",
      "| 2  1  4 | 3  6  5 | 8  9  7 |\n",
      "| 3  6  5 | 8  9  7 | 2  1  4 |\n",
      "| 8  9  7 | 2  1  4 | 3  6  5 |\n",
      "-------------------------------\n",
      "| 5  3  1 | 6  4  2 | 9  7  8 |\n",
      "| 6  4  2 | 9  7  8 | 5  3  1 |\n",
      "| 9  7  8 | 5  3  1 | 6  4  2 |\n",
      "-------------------------------\n"
     ]
    }
   ],
   "source": [
    "sc=s.board.copy()\n",
    "print(s.fill(0,0))\n",
    "s.check_grid()\n",
    "s.show()"
   ]
  },
  {
   "cell_type": "code",
   "execution_count": null,
   "metadata": {},
   "outputs": [],
   "source": [
    "fh=open('solution.txt','w')\n",
    "fh.write(str(s.board))\n",
    "fh.close()"
   ]
  },
  {
   "cell_type": "code",
   "execution_count": null,
   "metadata": {},
   "outputs": [],
   "source": []
  }
 ],
 "metadata": {
  "kernelspec": {
   "display_name": "Python 3",
   "language": "python",
   "name": "python3"
  },
  "language_info": {
   "codemirror_mode": {
    "name": "ipython",
    "version": 3
   },
   "file_extension": ".py",
   "mimetype": "text/x-python",
   "name": "python",
   "nbconvert_exporter": "python",
   "pygments_lexer": "ipython3",
   "version": "3.6.3"
  }
 },
 "nbformat": 4,
 "nbformat_minor": 2
}
